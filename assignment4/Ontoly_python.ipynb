{
 "cells": [
  {
   "cell_type": "markdown",
   "metadata": {},
   "source": [
    "\n",
    "\n",
    "\n",
    "# *Load ontology.*\n",
    "### Make sure to give the absolute path to the ontology, and that\n",
    "### there are no spaces in the path name.\n",
    "### The file:// prefix has to come before the path.\n",
    "\n"
   ]
  },
  {
   "cell_type": "code",
   "execution_count": 4,
   "metadata": {},
   "outputs": [],
   "source": [
    "from owlready2 import *\n",
    "#Change the file path to where your owl ontology is saved.\n",
    "path = \"./ontologies/practica4.owl\"\n",
    "onto = get_ontology(path)\n",
    "onto.load()\n",
    "#Change name to make things more legible\n",
    "onto.name = \"assignment4\""
   ]
  },
  {
   "cell_type": "markdown",
   "metadata": {},
   "source": [
    "# Classes and Subclasses\n",
    "## Accesing classes"
   ]
  },
  {
   "cell_type": "code",
   "execution_count": 5,
   "metadata": {},
   "outputs": [
    {
     "name": "stdout",
     "output_type": "stream",
     "text": [
      "All the clases in assignment4:\n",
      " [assignment4.Chair, SOMA.DesignedFurniture, SOMA.Table, assignment4.Cheese, assignment4.Perishable, assignment4.Milk, assignment4.Food, assignment4.Moving, assignment4.Robot, assignment4.Furniture, assignment4.Static, assignment4.Hagelslag, assignment4.NonPerishable, assignment4.Honey, assignment4.Jar, SOMA.Crockery, SOMA.DesignedHandle, assignment4.RefrigeratedTable, assignment4.Rice, SOMA.ArtificialAgent, assignment4.Tiago, SOMA.Gripper, assignment4.Yogurt, SOMA.DishwasherTab, SOMA.JointLimit, SOMA.MassAttribute, SOMA.PancakeMix, SOMA.RevoluteJoint]\n",
      "\n",
      "Descendants of Robot are: {assignment4.Tiago, assignment4.Robot}\n",
      "\n",
      "Subclasses of Robot are: [assignment4.Tiago]\n",
      "\n",
      "Robot is a [assignment4.Moving, SOMA.ArtificialAgent]\n",
      "\n",
      "Ancestors of robots are: {owl.Thing, DUL.Entity, assignment4.Robot, SOMA.ArtificialAgent, DUL.Object, assignment4.Moving}\n",
      "\n"
     ]
    }
   ],
   "source": [
    "#seeing all the classes\n",
    "print(f\"All the clases in {onto.name}:\\n {list(onto.classes())}\\n\")\n",
    "\n",
    "#One can choose a class as following:\n",
    "Robot = onto.Robot\n",
    "#Getiing descendants (subclass)\n",
    "print(f\"Descendants of Robot are: {Robot.descendants()}\\n\")\n",
    "\n",
    "#Getting subclasses\n",
    "print(f\"Subclasses of Robot are: {list(Robot.subclasses())}\\n\")\n",
    "\n",
    "#What is a Robot?\n",
    "print(f\"Robot is a {Robot.is_a}\\n\")\n",
    "\n",
    "#Getting ancestors\n",
    "print(f\"Ancestors of robots are: {Robot.ancestors()}\\n\")\n",
    "\n",
    "#Creating a class: This creates a class called Albert as a subclass of Robot\n",
    "# It inherits Robot ancestors"
   ]
  },
  {
   "cell_type": "markdown",
   "metadata": {},
   "source": [
    "## Creating Classes and Individuals\n",
    "\n",
    "One can create a class using:\n",
    "``class Class_name(inherits_from_class): pass``\n",
    "\n"
   ]
  },
  {
   "cell_type": "code",
   "execution_count": 6,
   "metadata": {},
   "outputs": [
    {
     "name": "stdout",
     "output_type": "stream",
     "text": [
      "Albert is a : [assignment4.Robot]\n",
      "\n",
      "Robot instances are:\n",
      "assignment4.tiago_robot1\n",
      "assignment4.tiago_robot_2\n",
      "assignment4.albert_robot_1\n",
      "assignment4.albert_robot_2\n"
     ]
    }
   ],
   "source": [
    "# Let's create a class called Albert, that inherits from robot\n",
    "class Albert(Robot): pass\n",
    "print(f\"Albert is a : {Albert.is_a}\\n\")\n",
    "\n",
    "#We can the make individuals of the subclass as follows:\n",
    "Albert1 = Albert(\"albert_robot_1\")\n",
    "Albert2 = Albert(\"albert_robot_2\")\n",
    "Tiago_2 = onto.Tiago(\"tiago_robot_2\")  # Existing class, must be called with onto first\n",
    "\n",
    "# Now lest check for Robot instances\n",
    "print(\"Robot instances are:\")\n",
    "for robot in Robot.instances():\n",
    "    print(robot)\n"
   ]
  },
  {
   "cell_type": "code",
   "execution_count": 7,
   "metadata": {},
   "outputs": [
    {
     "name": "stdout",
     "output_type": "stream",
     "text": [
      "Robot assignment4.tiago_robot1 has properties: {DUL.hasPart}\n",
      "Robot assignment4.tiago_robot_2 has properties: set()\n",
      "Robot assignment4.albert_robot_1 has properties: set()\n",
      "Robot assignment4.albert_robot_2 has properties: set()\n",
      "Robot assignment4.tiago_robot1 has property DUL.hasPart\n",
      "Robot assignment4.tiago_robot1 has part [assignment4.gripper1] \n"
     ]
    }
   ],
   "source": [
    "#Getting properties\n",
    "\n",
    "for robot in Robot.instances():\n",
    "    print(f\"Robot {robot} has properties: {robot.get_properties()}\")\n",
    "# Notice that the robots we created have no properties, its just an empty set. Properties need to be assigned.\n",
    "\n",
    "#Getting only the robots that have properties\n",
    "def get_robot_with_properties():\n",
    "    for robot in Robot.instances():\n",
    "        if len(robot.get_properties()) != 0:\n",
    "            for property in list(robot.get_properties()):\n",
    "                print(f\"Robot {robot} has property {property}\")\n",
    "\n",
    "get_robot_with_properties()\n",
    "\n",
    "#Checking property\n",
    "\n",
    "print(f\"Robot {onto.tiago_robot1} has part {onto.tiago_robot1.hasPart} \")"
   ]
  },
  {
   "cell_type": "markdown",
   "metadata": {},
   "source": [
    "## Lets make a new property:"
   ]
  },
  {
   "cell_type": "code",
   "execution_count": 9,
   "metadata": {},
   "outputs": [
    {
     "name": "stdout",
     "output_type": "stream",
     "text": [
      "[owl.lidar1]\n"
     ]
    }
   ],
   "source": [
    "class Sensor(Thing):pass\n",
    "\n",
    "class hasSensor(ObjectProperty):\n",
    "    domain = [Robot]\n",
    "    range = [Sensor]   \n",
    "\n",
    "#Now lets attach a Sensor to our robots\n",
    "\n",
    "Sensor1 = Sensor(\"lidar1\")\n",
    "Albert1.hasSensor = [Sensor1]  # needs to be in a list\n",
    "\n",
    "# Lets check if it worked\n",
    "print(Albert1.hasSensor)"
   ]
  },
  {
   "cell_type": "code",
   "execution_count": 27,
   "metadata": {},
   "outputs": [],
   "source": []
  },
  {
   "cell_type": "code",
   "execution_count": null,
   "metadata": {},
   "outputs": [],
   "source": []
  }
 ],
 "metadata": {
  "kernelspec": {
   "display_name": "Python 3 (ipykernel)",
   "language": "python",
   "name": "python3"
  },
  "language_info": {
   "codemirror_mode": {
    "name": "ipython",
    "version": 3
   },
   "file_extension": ".py",
   "mimetype": "text/x-python",
   "name": "python",
   "nbconvert_exporter": "python",
   "pygments_lexer": "ipython3",
   "version": "3.8.10"
  }
 },
 "nbformat": 4,
 "nbformat_minor": 1
}
