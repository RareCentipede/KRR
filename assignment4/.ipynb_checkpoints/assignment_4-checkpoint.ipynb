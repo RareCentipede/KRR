{
 "cells": [
  {
   "cell_type": "markdown",
   "metadata": {},
   "source": [
    "# Assignment 4. Part 2: Ontologies and owlready2\n",
    "In this part of the assignment, the world is the same as used in part 2 of practicum 4.\n",
    "You will use this Jupyter notebook to modify and query `practicum4.owl` ontology from Python code, using the `owlready2` library.\n",
    "This Jupyter notebook can be found on Brightspace: `assignment4.ipynb`."
   ]
  },
  {
   "cell_type": "markdown",
   "metadata": {},
   "source": [
    "## Preparation: *Load ontology.*\n",
    "Make sure to give the absolute path to the ontology, and that there are no spaces in the path name.\n",
    "\n",
    "_Note_: on Windows, the \"file://\" prefix has to come before the path.\n"
   ]
  },
  {
   "cell_type": "code",
   "execution_count": null,
   "metadata": {},
   "outputs": [],
   "source": [
    "from owlready2 import *\n",
    "\n",
    "# Fill in the following paths for the ontologies, modifying them to match the paths in your machine:\n",
    "practica_path = \"/home/ontologies/practica4.owl\"\n",
    "# Example on Windows:\n",
    "# practica_path = r\"file://C:\\Users\\ccclaij\\Documents\\ontologies\\practica4.owl/\" \n",
    "dul_path = \"./ontologies/DUL.owl\"\n",
    "io_path = \"./ontologies/IOLite.owl\" \n",
    "soma_path = \"./ontologies/SOMA-HOME.owl\"\n",
    "\n",
    "onto = get_ontology(dul_path).load()\n",
    "onto.imported_ontologies.append(get_ontology(io_path).load())\n",
    "onto.imported_ontologies.append(get_ontology(soma_path).load())\n",
    "onto.imported_ontologies.append(get_ontology(practica_path).load())\n",
    "\n",
    "soma = onto.imported_ontologies[1]\n",
    "practica4 = onto.imported_ontologies[2] \n"
   ]
  },
  {
   "cell_type": "markdown",
   "metadata": {},
   "source": [
    "## Question 2.1\n",
    "Add the following facts to the ontology:\n",
    "1. Tomato sauce is non-perishable food.\n",
    "2. A new individual tomatosauce1 is located on table1.\n",
    "3. The tomato sauce has a MassAttribute  weight\\_value\\_tomatosauce, with mass value 0.3."
   ]
  },
  {
   "cell_type": "code",
   "execution_count": null,
   "metadata": {},
   "outputs": [],
   "source": [
    "print(\"Answer Q1.1.1\")\n",
    "#  TO COMPLETE: Tomato sauce is non-perishable food.\n",
    "\n",
    "print(\"Answer Q1.1.2\")\n",
    "#  TO COMPLETE: A new individual tomatosauce1 is located on table1.\n",
    "\n",
    "\n",
    "print(\"Answer Q1.1.3\")\n",
    "#  TO COMPLETE: The tomato sauce has a MassAttribute  weight_value_tomatosauce, with mass value 0.3.\n"
   ]
  },
  {
   "cell_type": "markdown",
   "metadata": {},
   "source": [
    "## Question 2.2\n",
    "Express the following natural language questions as ontology queries in python to answer them:\n",
    "1. (Find) all Perishable food.\n",
    "2. (Find) all things that are non-fixed.\n",
    "3. (Find) all the food at table1. (HINT: you might have to come up with your own piece of code to find them)\n",
    "4. (Find) all moving objects with a weight less than 0.5. (HINT: you might have to come up with your own piece of code to find them)\n",
    "_Tip:_ use `print` command to display the information retrieved "
   ]
  },
  {
   "cell_type": "code",
   "execution_count": null,
   "metadata": {},
   "outputs": [],
   "source": [
    "print(\"Answer Q2.2.1\")\n",
    "#  TO COMPLETE\n",
    "\n",
    "print(\"\\n Answer Q2.2.2\")\n",
    "#  TO COMPLETE\n",
    "\n",
    "print(\"\\nAnswer Q2.2.3\")\n",
    "#  TO COMPLETE\n",
    "\n",
    "\n",
    "print(\"\\nAnswer Q2.2.4\")\n",
    "#  TO COMPLETE\n"
   ]
  }
 ],
 "metadata": {
  "kernelspec": {
   "display_name": "Python 3 (ipykernel)",
   "language": "python",
   "name": "python3"
  },
  "language_info": {
   "codemirror_mode": {
    "name": "ipython",
    "version": 3
   },
   "file_extension": ".py",
   "mimetype": "text/x-python",
   "name": "python",
   "nbconvert_exporter": "python",
   "pygments_lexer": "ipython3",
   "version": "3.10.6"
  },
  "vscode": {
   "interpreter": {
    "hash": "38269f12e9545a8f464de72ffc3f748f7788cf06a24d0babf0a520e93b281e85"
   }
  }
 },
 "nbformat": 4,
 "nbformat_minor": 1
}
